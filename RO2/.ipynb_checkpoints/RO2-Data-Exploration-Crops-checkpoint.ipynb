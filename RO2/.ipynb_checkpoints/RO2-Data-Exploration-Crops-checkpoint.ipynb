{
 "cells": [
  {
   "cell_type": "markdown",
   "metadata": {},
   "source": [
    "##### <font color='pink'> *Rozpoznawanie obrazów (2025)* </font>\n",
    "\n",
    "\n",
    "## LAB 2: Eksploracja danych \n",
    "### Korelacja cech. Histogramy rozkładów cech. Statystyki opisowe. Wizualizacja danych. Podział na zbiór uczący i testowy. Macierz pomyłek.\n",
    "\n",
    "* <font color='teal'>Tydzień 2: dane 'Crop_recommendation.csv' (plik)</font>\n",
    "* <font color='teal'>Tydzień 3: dane 'Iris' (load_iris()), 'digits', 'wine', 'breast cancer' ([https://scikit-learn.org/stable/datasets/toy_dataset.html](https://scikit-learn.org/stable/datasets/toy_dataset.html)</font>\n",
    "\n"
   ]
  },
  {
   "cell_type": "markdown",
   "metadata": {},
   "source": [
    "---"
   ]
  },
  {
   "cell_type": "markdown",
   "metadata": {},
   "source": [
    "### Import pakietów i bibliotek"
   ]
  },
  {
   "cell_type": "code",
   "execution_count": null,
   "metadata": {},
   "outputs": [],
   "source": [
    "#importing necessary libraries\n",
    "import pandas as pd\n",
    "import seaborn as sns\n",
    "import numpy as np\n",
    "import matplotlib.pyplot as plt"
   ]
  },
  {
   "cell_type": "markdown",
   "metadata": {},
   "source": [
    "<div class=\"alert-success\">\n",
    "    \n",
    "### ZADANIE 1: Analiza 'Crop Recommendation Dataset' \n",
    "- Załaduj dane do dataframe i sprawdź zawartość tablicy.\n",
    "- Sprawdź liczbę kolumn i liczbę wierszy danych. \n",
    "- Ile obiektów jest w danych?\n",
    "- Czy dane mają etykiety klas? Jeśli tak, to w której kolumnie?\n",
    "  \n",
    "</div>"
   ]
  },
  {
   "cell_type": "markdown",
   "metadata": {},
   "source": [
    "## Dataset 'Crop Recommendation'"
   ]
  },
  {
   "cell_type": "markdown",
   "metadata": {},
   "source": [
    "\n",
    "- The dataset is built by augmenting data of rainfall, climate and fertilizer data available for India which can be used to build a predictive model to recommend the most suitable crops to grow in a particular farm.\n",
    "\n",
    "- The data set is called Crop recommendation Dataset.It can be downloaded from this link: https://www.kaggle.com/code/ysthehurricane/crop-recommendation-system-using-lightgbm/data?select=Crop_recommendation.csv\n",
    "\n",
    "- It consists of  various  features which are:\n",
    "\n",
    "    - **N** - ratio of Nitrogen content in soil\n",
    "    - **P** - ratio of Phosphorous content in soil\n",
    "    - **K** - ratio of Potassium content in soil\n",
    "    - **temperature** - temperature in degree Celsius\n",
    "    - **humidity** - relative humidity in %\n",
    "    - **ph** - ph value of the soil\n",
    "    - **rainfall** - rainfall in mm"
   ]
  },
  {
   "cell_type": "markdown",
   "metadata": {},
   "source": [
    "### Load/Read the Dataset\n",
    "Let us load the dataset."
   ]
  },
  {
   "cell_type": "code",
   "execution_count": null,
   "metadata": {},
   "outputs": [],
   "source": [
    "#importing the dataset\n",
    "crop = pd.read_csv(\"Crop_recommendation.csv\")\n",
    "crop.head()"
   ]
  },
  {
   "cell_type": "markdown",
   "metadata": {},
   "source": [
    "### View the information of the data\n",
    "We will acquire more information about the attributes in the dataset."
   ]
  },
  {
   "cell_type": "code",
   "execution_count": null,
   "metadata": {},
   "outputs": [],
   "source": [
    "#copying original data\n",
    "data = crop.copy()\n",
    "data.info()"
   ]
  },
  {
   "cell_type": "markdown",
   "metadata": {},
   "source": [
    "- Range Index is 2200 and there are 2200 non-null values for every column features. \n",
    "- This means that there are no null entries and therefore we need not deal with missing values. "
   ]
  },
  {
   "cell_type": "markdown",
   "metadata": {},
   "source": [
    "<div class=\"alert-success\">\n",
    "    \n",
    "### ZADANIE 2: Data Cleaning\n",
    "- Czy w danych mamy puste komórki (bez wpisanych wartości)?  \n",
    "  \n",
    "</div>"
   ]
  },
  {
   "cell_type": "markdown",
   "metadata": {},
   "source": [
    "### Checking for null values\n",
    "Czy w danych są puste komórki? Jeśli tak, to trzeba je usunąć."
   ]
  },
  {
   "cell_type": "code",
   "execution_count": null,
   "metadata": {},
   "outputs": [],
   "source": [
    "#checking for null values\n",
    "data.isnull().sum().any()"
   ]
  },
  {
   "cell_type": "markdown",
   "metadata": {},
   "source": [
    "<div class=\"alert-success\">\n",
    "    \n",
    "### ZADANIE 3: Etykiety klas\n",
    "- Zakoduj etykiety klas liczbami. \n",
    "  \n",
    "</div>"
   ]
  },
  {
   "cell_type": "markdown",
   "metadata": {},
   "source": [
    "### Encoding the categorical variable\n",
    "We will encode the categorical variables to feed it to the model"
   ]
  },
  {
   "cell_type": "code",
   "execution_count": null,
   "metadata": {},
   "outputs": [],
   "source": [
    "#label encoding for output variable\n",
    "from sklearn.preprocessing import LabelEncoder\n",
    "encod = LabelEncoder()\n",
    "data['Encoded_label'] = encod.fit_transform(data.label) #label will be encoded in alphabetical order"
   ]
  },
  {
   "cell_type": "markdown",
   "metadata": {},
   "source": [
    "### Viewing the encoded dataframe\n",
    "Podgląd danych:"
   ]
  },
  {
   "cell_type": "code",
   "execution_count": null,
   "metadata": {},
   "outputs": [],
   "source": [
    "data.head()"
   ]
  },
  {
   "cell_type": "markdown",
   "metadata": {},
   "source": [
    "<div class=\"alert-success\">\n",
    "    \n",
    "### ZADANIE 4: Etykiety klas i zakodowane etykiety klas\n",
    "- Sprawdź, co siedzi w zmiennej ```data.label```, a co w ```data.Encoded_label```, wypisując je na ekranie.\n",
    "  \n",
    "</div>"
   ]
  },
  {
   "cell_type": "code",
   "execution_count": null,
   "metadata": {},
   "outputs": [],
   "source": [
    "# UZUPEŁNIJ"
   ]
  },
  {
   "cell_type": "code",
   "execution_count": null,
   "metadata": {},
   "outputs": [],
   "source": [
    "# UZUPEŁNIJ"
   ]
  },
  {
   "cell_type": "markdown",
   "metadata": {},
   "source": [
    "<div class=\"alert-success\">\n",
    "    \n",
    "### ZADANIE 5: Wypisz etykiety klas w kolejności alfabetycznej\n",
    "- Ile jest w sumie klas?\n",
    "\n",
    "  \n",
    "</div>"
   ]
  },
  {
   "cell_type": "code",
   "execution_count": null,
   "metadata": {},
   "outputs": [],
   "source": [
    "#encoded labels for classes \n",
    "a = pd.DataFrame(pd.unique(data.label));\n",
    "a.rename(columns={0:'label'},inplace=True)\n",
    "b = pd.DataFrame(pd.unique(data.Encoded_label));\n",
    "b.rename(columns={0:'encoded'},inplace=True)\n",
    "classes = pd.concat([a,b],axis=1).sort_values('encoded').set_index('label')\n",
    "classes"
   ]
  },
  {
   "cell_type": "markdown",
   "metadata": {},
   "source": [
    "<div class=\"alert-success\">\n",
    "    \n",
    "### ZADANIE 6: Data Exploration\n",
    "- Sprawdź liczności w klasach. \n",
    "- Czy klasy są równomiernie rozłożone, czy może któreś klasy występują częściej niż inne?\n",
    "  \n",
    "</div>"
   ]
  },
  {
   "cell_type": "code",
   "execution_count": null,
   "metadata": {},
   "outputs": [],
   "source": [
    "import pandas as pd\n",
    "\n",
    "# Wczytanie pliku CSV\n",
    "file_path = 'Crop_recommendation.csv'  # Zmień na rzeczywistą ścieżkę do pliku CSV\n",
    "df = pd.read_csv(file_path)\n",
    "\n",
    "# Wyświetlenie liczności obiektów w klasach\n",
    "class_counts = df['label'].value_counts()\n",
    "\n",
    "# Wypisanie klas oraz ich liczności\n",
    "print(\"Liczność obiektów w klasach:\")\n",
    "print(class_counts)\n"
   ]
  },
  {
   "cell_type": "code",
   "execution_count": null,
   "metadata": {},
   "outputs": [],
   "source": [
    "total_counts = # UZUPEŁNIJ\n",
    "\n",
    "# Wypisanie całkowitej liczby obiektów\n",
    "print(\"Całkowita liczność obiektów w zbiorze danych:\")\n",
    "print(total_counts)"
   ]
  },
  {
   "cell_type": "markdown",
   "metadata": {},
   "source": [
    "<div class=\"alert-success\">\n",
    "    \n",
    "### ZADANIE 7: Macierz korelacji\n",
    "- Które cechy są ze sobą skorelowane?\n",
    "  \n",
    "</div>"
   ]
  },
  {
   "cell_type": "code",
   "execution_count": null,
   "metadata": {},
   "outputs": [],
   "source": [
    "import pandas as pd\n",
    "import seaborn as sns\n",
    "import matplotlib.pyplot as plt\n",
    "\n",
    "# Wczytanie pliku CSV\n",
    "file_path = 'Crop_recommendation.csv'  # Zmień na rzeczywistą ścieżkę do pliku CSV\n",
    "df = pd.read_csv(file_path)\n",
    "\n",
    "# Podzielenie danych na cechy (data) i etykiety (target)\n",
    "data = df.iloc[:, :-1]  # Kolumny 1-7 (wszystkie kolumny oprócz ostatniej)\n",
    "target = df['label']  # Ostatnia kolumna - 'label'\n",
    "\n",
    "# Obliczanie macierzy korelacji\n",
    "correlation_matrix = data.corr()\n",
    "\n",
    "# Rysowanie macierzy korelacji\n",
    "plt.figure(figsize=(10, 8))  # Rozmiar wykresu\n",
    "sns.heatmap(correlation_matrix, annot=True, cmap='coolwarm', fmt='.2f', vmin=-1, vmax=1)\n",
    "\n",
    "# Ustawienia tytułu i wyświetlenie wykresu\n",
    "plt.title('Macierz korelacji cech')\n",
    "plt.show()\n"
   ]
  },
  {
   "cell_type": "markdown",
   "metadata": {},
   "source": [
    "<div class=\"alert-success\">\n",
    "    \n",
    "### ZADANIE 8: Exploratory Data Analysis (EDA)\n",
    "- Przeprowadź analizę danych za pomocą statystyk opisowych, dla każdej cechy osobno.\n",
    "- Które cechy mają największą i najmniejszą wartość średnią (mean)?\n",
    "- Które cechy mają największe i najmniejsze odchylenie standardowe (std)?\n",
    "- Ile wynosi mediana temperatur (st. C) oraz wilgotności powietrza (%)?\n",
    "</div>"
   ]
  },
  {
   "cell_type": "code",
   "execution_count": null,
   "metadata": {},
   "outputs": [],
   "source": [
    "#EDA\n",
    "data.describe()"
   ]
  },
  {
   "cell_type": "markdown",
   "metadata": {},
   "source": [
    "<div class=\"alert-success\">\n",
    "    \n",
    "### ZADANIE 9: Histogram i box plot\n",
    "- Przeprowadź analizę histogramu i wykresu pudełkowego, dla każdej cechy osobno.\n",
    "- Które cechy mają symetryczny rozkład wzgledem średniej? Przeanalizuj kształt histogramu i jego symetrię?\n",
    "- Dla wykrytych cech o symetrycznym rozkładzie, sprawdź w tabeli czy wartosci średniej i mediany są zbliżone?\n",
    "- Jak wyznaczamy 'wąsy' na wykresach pudełkowych? Sprawdź dokumnetację: [https://matplotlib.org/stable/api/_as_gen/matplotlib.pyplot.boxplot.html](https://matplotlib.org/stable/api/_as_gen/matplotlib.pyplot.boxplot.html)\n",
    "- Przeprowadź analizę wartości odstających (outliers)? Dla których cech występują? Są to wartości wyższe czy niższe niż wąsy?\n",
    "</div>"
   ]
  },
  {
   "cell_type": "code",
   "execution_count": null,
   "metadata": {},
   "outputs": [],
   "source": [
    "#checking for outliers in the data\n",
    "for i in data.columns[:-2]:\n",
    "    print('Variable Name :',i.upper())\n",
    "    fig, axes = plt.subplots(1,2,figsize=(8,4))\n",
    "    axes[0].set_title('Distribution')\n",
    "    axes[1].set_title('Outliers Detection')\n",
    "    data[i].hist(ax=axes[0])\n",
    "    sns.boxplot(data[i],ax=axes[1])\n",
    "    plt.show()\n",
    "    print('\\n')"
   ]
  },
  {
   "cell_type": "markdown",
   "metadata": {},
   "source": [
    "<div class=\"alert-success\">\n",
    "    \n",
    "### ZADANIE 10: train_test_split()\n",
    "- Podziel dane na zbiór treningowy i testowy.\n",
    "</div>"
   ]
  },
  {
   "cell_type": "code",
   "execution_count": null,
   "metadata": {},
   "outputs": [],
   "source": [
    "import pandas as pd\n",
    "from sklearn.model_selection import train_test_split\n",
    "\n",
    "# Wczytanie pliku CSV\n",
    "file_path = 'Crop_recommendation.csv'  # Zmień na rzeczywistą ścieżkę do pliku CSV\n",
    "df = pd.read_csv(file_path)\n",
    "\n",
    "# Podzielenie danych na cechy (data) i etykiety (target)\n",
    "data = df.iloc[:, :-1]  # Kolumny 1-7 (wszystkie kolumny oprócz ostatniej)\n",
    "target = df['label']  # Ostatnia kolumna - 'label'\n",
    "\n",
    "# Podział danych na zbiór treningowy (70%) i testowy (30%)\n",
    "X_train, X_test, y_train, y_test = train_test_split(data, target, test_size=0.3, random_state=42)\n",
    "\n",
    "print(\"Dane zostały podzielone.\")"
   ]
  },
  {
   "cell_type": "markdown",
   "metadata": {},
   "source": [
    "<div class=\"alert-success\">\n",
    "    \n",
    "### ZADANIE 11: Wizualizacja danych\n",
    "- Wysysuj dane ze zbioru treningowego dla wybranych dwóch cech.\n",
    "- Przeanalizuj, które klasy może być trudno rozróżnić.\n",
    "- Czy klasę 'banana' można łatwo wyłuskać spośród innych klas?\n",
    "- Powtórz wizualizację i analizę dla innych par cech.\n",
    "</div>"
   ]
  },
  {
   "cell_type": "code",
   "execution_count": null,
   "metadata": {},
   "outputs": [],
   "source": [
    "import pandas as pd\n",
    "from sklearn.model_selection import train_test_split\n",
    "import matplotlib.pyplot as plt\n",
    "from sklearn.preprocessing import LabelEncoder\n",
    "\n",
    "# Wczytanie pliku CSV\n",
    "file_path = 'Crop_recommendation.csv'  # Zmień na rzeczywistą ścieżkę do pliku CSV\n",
    "df = pd.read_csv(file_path)\n",
    "\n",
    "# Podzielenie danych na cechy (data) i etykiety (target)\n",
    "data = df.iloc[:, :-1]  # Kolumny 1-7 (wszystkie kolumny oprócz ostatniej)\n",
    "target = df['label']  # Ostatnia kolumna - 'label'\n",
    "\n",
    "# Podział danych na zbiór treningowy (70%) i testowy (30%)\n",
    "X_train, X_test, y_train, y_test = train_test_split(data, target, test_size=0.3, random_state=42)\n",
    "\n",
    "print(\"Dane zostały podzielone.\")\n",
    "\n",
    "# Tworzenie instancji LabelEncoder do konwersji etykiet na wartości numeryczne\n",
    "label_encoder = LabelEncoder()\n",
    "y_train_encoded = label_encoder.fit_transform(y_train)  # Kodowanie etykiet na liczby\n",
    "\n",
    "# Definiowanie różnych znaczników (markerów) dla każdej klasy\n",
    "# Przygotowałem 22 różne markery\n",
    "markers = ['o', 's', '^', 'D', 'P', '*', 'X', 'H', 'v', '<', '>',\n",
    "           '8', 'p', 'P', 'X', 'H', '1', '2', '3', '4', '|', '_']\n",
    "\n",
    "# Upewniamy się, że liczba markerów odpowiada liczbie klas (22 klasy)\n",
    "if len(markers) < len(label_encoder.classes_):\n",
    "    raise ValueError(\"Nie ma wystarczającej liczby markerów dla wszystkich klas.\")\n",
    "\n",
    "# Rysowanie punktów treningowych z różnymi markerami i kolorami\n",
    "_, ax = plt.subplots(figsize=(12, 8))\n",
    "\n",
    "# Rysowanie punktów z różnymi markerami\n",
    "# Rysowanie punktów z różnymi markerami\n",
    "for i, class_label in enumerate(label_encoder.classes_):\n",
    "    ax.scatter(X_train.iloc[y_train_encoded == i, # UZUPEŁNIJ], \n",
    "               X_train.iloc[y_train_encoded == i, # UZUPEŁNIJ],\n",
    "               label=class_label,\n",
    "               marker=markers[i],  # Przypisanie różnych markerów\n",
    "               cmap='gist_ncar', \n",
    "               s=50)  # Zwiększenie rozmiaru markerów dla lepszej widoczności\n",
    "\n",
    "# Ustawienia etykiet osi, używając nazw cech z nagłówków\n",
    "ax.set(xlabel=X_train.columns[# UZUPEŁNIJ], \n",
    "       ylabel=X_train.columns[# UZUPEŁNIJ])\n",
    "\n",
    "# Dodanie legendy\n",
    "ax.legend(title=\"Class\", loc='center left', bbox_to_anchor=(1, 0.5))\n",
    "\n",
    "# Tytuł wykresu\n",
    "plt.title(\"Train data\")\n",
    "\n",
    "# Wyświetlenie wykresu\n",
    "plt.show()\n"
   ]
  },
  {
   "cell_type": "code",
   "execution_count": null,
   "metadata": {},
   "outputs": [],
   "source": [
    "# INNA PARA CECH"
   ]
  },
  {
   "cell_type": "markdown",
   "metadata": {},
   "source": [
    "<div class=\"alert-success\">\n",
    "    \n",
    "### ZADANIE 12: Klasyfikacja za pomocą Multi-Layer Perceptron (MLP)\n",
    "- Podziel dane na zbiór treningowy i testowy w stosunku 70% - 30% i przeprowadź uczenie sieci.\n",
    "- Przeanalizuj wyniki testów: dokładność (accuracy) i macierz pomyłek (confusion matrix).\n",
    "- Zmień kilkukrotnie podział na zbiór treningowy i testowy, wyucz sieć i ponownie przeanalizuj wyniki testów.\n",
    "- Zmień parametry sieci, aby uzyskać jak najlepszy wynik. Dokumentacja: [https://scikit-learn.org/stable/modules/generated/sklearn.neural_network.MLPClassifier.html](https://scikit-learn.org/stable/modules/generated/sklearn.neural_network.MLPClassifier.html)\n",
    "</div>"
   ]
  },
  {
   "cell_type": "code",
   "execution_count": null,
   "metadata": {},
   "outputs": [],
   "source": [
    "import pandas as pd\n",
    "from sklearn.model_selection import train_test_split\n",
    "from sklearn.neural_network import MLPClassifier\n",
    "from sklearn.metrics import accuracy_score, confusion_matrix\n",
    "import seaborn as sns\n",
    "import matplotlib.pyplot as plt\n",
    "\n",
    "# Wczytanie pliku CSV\n",
    "file_path = 'Crop_recommendation.csv'  # Zmień na rzeczywistą ścieżkę do pliku CSV\n",
    "df = pd.read_csv(file_path)\n",
    "\n",
    "# Podzielenie danych na cechy (data) i etykiety (target)\n",
    "data = df.iloc[:, :-1]  # Kolumny 1-7 (wszystkie kolumny oprócz ostatniej)\n",
    "target = df['label']  # Ostatnia kolumna - 'label'\n",
    "\n",
    "# Podział danych na zbiór treningowy (70%) i testowy (30%)\n",
    "X_train, X_test, y_train, y_test = train_test_split(data, target, test_size=0.3, random_state=42)\n",
    "\n",
    "# Tworzenie modelu MLP z 2 warstwami ukrytymi, każda z 30 neuronami\n",
    "mlp = MLPClassifier(hidden_layer_sizes=(30, 30), activation='relu', solver='adam', max_iter=100, random_state=42)\n",
    "\n",
    "# Trenowanie modelu\n",
    "mlp.fit(X_train, y_train)\n",
    "\n",
    "# Predykcja na zbiorze testowym\n",
    "y_pred = mlp.predict(X_test)\n",
    "\n",
    "# Ocena dokładności modelu\n",
    "accuracy = accuracy_score(y_test, y_pred)\n",
    "\n",
    "# Wypisanie wyników\n",
    "print(f'Dokładność modelu na zbiorze testowym: {accuracy:.2f}')\n",
    "\n",
    "# Generowanie macierzy pomyłek\n",
    "cm = confusion_matrix(y_test, y_pred)\n",
    "\n",
    "# Tworzenie heatmapy z macierzy pomyłek\n",
    "plt.figure(figsize=(10, 7))\n",
    "sns.heatmap(cm, annot=True, fmt='d', cmap='Blues', xticklabels=target.unique(), yticklabels=target.unique())\n",
    "plt.xlabel('Klasy predykowane')\n",
    "plt.ylabel('Klasy oryginalne')\n",
    "plt.title('Macierz pomyłek')\n",
    "plt.show()\n"
   ]
  },
  {
   "cell_type": "markdown",
   "metadata": {},
   "source": [
    "<div class=\"alert-success\">\n",
    "    \n",
    "### ZADANIE 13: Okrojona liczba cech\n",
    "- skopiuj kod z zad. 12 i wykonaj ponowne uczenie sieci, ale tylko na dwóch wybranych cechach (np. o indeksach 0 i 1).\n",
    "- skopiuj kod z zad. 11 i wykonaj dla tych samych dwóch cech wizualizację danych.\n",
    "- Które klasy zostały najczęściej pomylone według macierzy pomyłek?\n",
    "- Porównaj najczęściej mylone klasy, dla tych dwóch wybranych cech z ich lokalizacją na wykresie.\n",
    "</div>"
   ]
  },
  {
   "cell_type": "code",
   "execution_count": null,
   "metadata": {},
   "outputs": [],
   "source": [
    "# UZUPEŁNIJ KOD (uczenie sieci)"
   ]
  },
  {
   "cell_type": "code",
   "execution_count": null,
   "metadata": {},
   "outputs": [],
   "source": [
    "import pandas as pd\n",
    "from sklearn.model_selection import train_test_split\n",
    "import matplotlib.pyplot as plt\n",
    "from sklearn.preprocessing import LabelEncoder\n",
    "\n",
    "# Wczytanie pliku CSV\n",
    "file_path = 'Crop_recommendation.csv'  # Zmień na rzeczywistą ścieżkę do pliku CSV\n",
    "df = pd.read_csv(file_path)\n",
    "\n",
    "# Podzielenie danych na cechy (data) i etykiety (target)\n",
    "data = # UZUPEŁNIJ KOD (wybierz kolumny)\n",
    "target = df['label']  # Ostatnia kolumna - 'label'\n",
    "\n",
    "# Podział danych na zbiór treningowy (70%) i testowy (30%)\n",
    "X_train, X_test, y_train, y_test = train_test_split(data, target, test_size=0.3, random_state=42)\n",
    "\n",
    "print(\"Dane zostały podzielone.\")\n",
    "\n",
    "# Tworzenie instancji LabelEncoder do konwersji etykiet na wartości numeryczne\n",
    "label_encoder = LabelEncoder()\n",
    "y_train_encoded = label_encoder.fit_transform(y_train)  # Kodowanie etykiet na liczby\n",
    "\n",
    "# Definiowanie różnych znaczników (markerów) dla każdej klasy\n",
    "# Przygotowałem 22 różne markery\n",
    "markers = ['o', 's', '^', 'D', 'P', '*', 'X', 'H', 'v', '<', '>',\n",
    "           '8', 'p', 'P', 'X', 'H', '1', '2', '3', '4', '|', '_']\n",
    "\n",
    "# Upewniamy się, że liczba markerów odpowiada liczbie klas (22 klasy)\n",
    "if len(markers) < len(label_encoder.classes_):\n",
    "    raise ValueError(\"Nie ma wystarczającej liczby markerów dla wszystkich klas.\")\n",
    "\n",
    "# Rysowanie punktów treningowych: cechy 0 i 1 z różnymi markerami i kolorami\n",
    "_, ax = plt.subplots(figsize=(12, 8))\n",
    "\n",
    "# Rysowanie punktów z różnymi markerami\n",
    "for i, class_label in enumerate(label_encoder.classes_):\n",
    "    ax.scatter(X_train.iloc[y_train_encoded == i, 0], \n",
    "               X_train.iloc[y_train_encoded == i, 1],\n",
    "               label=class_label,\n",
    "               marker=markers[i],  # Przypisanie różnych markerów\n",
    "               cmap='gist_ncar', \n",
    "               s=50)  # Zwiększenie rozmiaru markerów dla lepszej widoczności\n",
    "\n",
    "# Ustawienia etykiet osi, używając nazw cech z nagłówków\n",
    "ax.set(xlabel=X_train.columns[0], ylabel=X_train.columns[1])\n",
    "\n",
    "# Dodanie legendy\n",
    "ax.legend(title=\"Class\", loc='center left', bbox_to_anchor=(1, 0.5))\n",
    "\n",
    "# Tytuł wykresu\n",
    "plt.title(\"Train data\")\n",
    "\n",
    "# Wyświetlenie wykresu\n",
    "plt.show()\n"
   ]
  },
  {
   "cell_type": "code",
   "execution_count": null,
   "metadata": {},
   "outputs": [],
   "source": []
  }
 ],
 "metadata": {
  "kernelspec": {
   "display_name": "Python [conda env:base] *",
   "language": "python",
   "name": "conda-base-py"
  },
  "language_info": {
   "codemirror_mode": {
    "name": "ipython",
    "version": 3
   },
   "file_extension": ".py",
   "mimetype": "text/x-python",
   "name": "python",
   "nbconvert_exporter": "python",
   "pygments_lexer": "ipython3",
   "version": "3.12.7"
  }
 },
 "nbformat": 4,
 "nbformat_minor": 4
}
