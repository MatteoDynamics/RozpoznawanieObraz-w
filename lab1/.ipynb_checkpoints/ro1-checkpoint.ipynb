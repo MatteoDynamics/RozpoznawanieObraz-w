{
 "cells": [
  {
   "cell_type": "markdown",
   "id": "b3fa6371-bd4e-4371-9007-79a0a85c5145",
   "metadata": {},
   "source": [
    "##### <font color='pink'> *Rozpoznawanie obrazów (2024)* </font>\n",
    "\n",
    "\n",
    "## LAB 1: Rozkłady prawdopodobieństwa. Funkcja gęstości prawdopodobieństwa. Reguła decyzyjna.\n",
    "\n"
   ]
  },
  {
   "cell_type": "markdown",
   "id": "d2287ab9-f487-4b04-b309-b8eda13f4b6d",
   "metadata": {},
   "source": [
    "***"
   ]
  },
  {
   "cell_type": "markdown",
   "id": "dd26c3e0-f7b2-467d-bd33-adc7a4fef36c",
   "metadata": {},
   "source": [
    "\n",
    "<div class=\"alert-success\">\n",
    "\n",
    " \n",
    "<font size = \"+1\">\n",
    "        <b><font color='purple'>[PROBLEM 1D]</font><br>\n",
    "        ZAD 1. Rozkład normalny $N(m,s^2)$</b> </font>\n",
    "<br>\n",
    " \n",
    "Na rysunku mamy wykresy funkcji gęstości prawdopodobieństwa pewnej cechy $x$:<br>\n",
    "    1) $N(10,1)$ o średniej 10 i wariancji 1 <font color='red'>(klasa czerwona)</font>\n",
    "    <br>\n",
    "    2) $N(13,4)$ o średniej 13 i wariancji 4 <font color='blue'>(klasa niebieska)</font>\n",
    "\n",
    "Znajdź, dla jakich wartości x, jest bardziej prawdopodobne, że obiekt o wartości x pochodzi z klasy czerwonej, a dla jakich - z klasy niebieskiej.\n",
    "    \n",
    "Wskazówka: Wyrysuj linię pionową w miejscu przecięcia funkcji gęstości i odczytaj x graniczne ```x_gr```. <br>Komenda: ```plt.vlines(x_gr, ymin, ymax)```\n",
    "</div>"
   ]
  },
  {
   "cell_type": "code",
   "execution_count": null,
   "id": "8c958031-f7b9-4100-8d3a-c3131466cf28",
   "metadata": {},
   "outputs": [],
   "source": [
    "# Gęstość rozkładu normalnego (Gaussowskiego)\n",
    "# N(m,s^2) \n",
    "# m - średnia\n",
    "# s^2 - wariancja\n",
    "# s - odchylenie standardowe\n",
    "# funkcja norm.pdf(x)\n",
    "\n",
    "from scipy.stats import norm\n",
    "import numpy as np\n",
    "import matplotlib.pyplot as plt\n",
    "\n",
    "fig, ax = plt.subplots(1, 1)\n",
    "x = np.linspace(5,20,200) # wartości na osi OX\n",
    "\n",
    "#Display the probability density function (pdf):\n",
    "\n",
    "m=10\n",
    "s=1\n",
    "ax.plot(x, norm.pdf(x, loc=m, scale=s), 'r-', lw=2, label='m=10, s=1')\n",
    "\n",
    "m=13\n",
    "s=2\n",
    "ax.plot(x, norm.pdf(x, loc=m, scale=s), 'b-', lw=2, label='m=13, s=2')\n",
    "\n",
    "ax.legend(loc='best', frameon=True)\n",
    "ax.set(xlabel='x', ylabel='pdf(x)', title='Rozkład normalny $N(m, s^2)$')\n",
    "plt.show()"
   ]
  },
  {
   "cell_type": "markdown",
   "id": "818f51fc-5af7-4b7f-8f63-a355de990305",
   "metadata": {},
   "source": [
    "***"
   ]
  },
  {
   "cell_type": "markdown",
   "id": "9dd99e9e-edf8-4ec5-a799-7e66c669050a",
   "metadata": {},
   "source": [
    "\n",
    "<div class=\"alert-success\">\n",
    "\n",
    "    \n",
    "<br>  \n",
    "    <font size = \"+1\"><b><font color='purple'>[PROBLEM 2D]</font><br>ZAD 2. Trzy gatunki irysów</b></font>\n",
    "<br>\n",
    " \n",
    "\n",
    "    \n",
    "<b>Import danych</b>\n",
    "\n",
    "\n",
    "Uruchom poniższy kod, aby zaimportować dane \"Iris\" oraz wyrysować dwie pierwsze cechy tych kwiatów na płaszczyźnie$~\\mathrm{R}^2.$\n",
    "\n",
    "    \n",
    "<b>Iris data set</b>\n",
    "\n",
    "Zbiór danych \"Iris\" składa się z pomiarów dokonanych dla 3 różnych rodzajów (**klas**) irysów: \n",
    "* Setosa, \n",
    "* Versicolour,\n",
    "* Virginica. \n",
    "\n",
    "Kwiatom pomierzono długości płatków (ang. petal) i działek (ang. sepal), a dane przechowywane są w tablicy o rozmiarze 150x4. W wierszach mamy kolejne próbki (150 kwiatów), w kolumnach 4 **cechy** tych kwiatów: \n",
    "* Sepal Length ```iris.data[:, 0]```\n",
    "* Sepal Width ```iris.data[:, 1]```\n",
    "* Petal Length ```iris.data[:, 2]```\n",
    "* Petal Width ```iris.data[:, 3]```\n",
    "\n",
    "<img src='iris.png' width=\"200\" height=\"216\">\n",
    "<br>\n",
    "\n",
    "</div>"
   ]
  },
  {
   "cell_type": "markdown",
   "id": "dbefea2b-ec47-4101-a582-37a6b200a808",
   "metadata": {},
   "source": [
    "\n",
    "<div class=\"alert-success\">\n",
    "\n",
    "<br>   \n",
    "<b>ZAD 2.1 Dwie cechy: Sepal Length, Sepal Width</b>\n",
    "\n",
    "Znajdź sposób, aby za pomocą funkcji liniowej oddzielić klasę Setosa od dwóch pozostałych. Użyj funkcji ```plot``` do wyrysowania granicy na wykresie. Używamy tylko dwóch cech: Sepal Length i Sepal Width.\n",
    "\n",
    "<br>\n",
    "<b>ZAD 2.2 Reguła decyzyjna</b>\n",
    "\n",
    "Jak na tej podstawie skonstruujesz regułę decyzyjną o przynależności, bądź nie, do klasy Setosa nowo zmierzonego kwiata irysa?\n",
    "\n",
    "Czy irys o cechach:\n",
    "* Sepal Length=5\n",
    "* Sepal Width=4 \n",
    "* Petal Length=2 \n",
    "* Petal Width=0.5\n",
    "\n",
    "zostanie zaliczony na tej podstawie do klasy Setosa?\n",
    "\n",
    "</div>"
   ]
  },
  {
   "cell_type": "code",
   "execution_count": null,
   "id": "ad7ed76f-2bc2-42dd-be86-094e0e0c6b38",
   "metadata": {},
   "outputs": [],
   "source": [
    "import matplotlib.pyplot as plt\n",
    "\n",
    "_, ax = plt.subplots()\n",
    "scatter = ax.scatter(iris.data[:, 0], iris.data[:, 1], c=iris.target) # cechy: Sepal Length, Sepal Width\n",
    "ax.set(xlabel=iris.feature_names[0], ylabel=iris.feature_names[1])\n",
    "_ = ax.legend(scatter.legend_elements()[0], iris.target_names, loc=\"lower right\", title=\"Classes\")\n"
   ]
  },
  {
   "cell_type": "markdown",
   "id": "ae9a5c3d-8fa2-4eed-8930-81190db6c64e",
   "metadata": {},
   "source": [
    "\n",
    "<div class=\"alert-success\">\n",
    "\n",
    "    \n",
    "<b>ZAD 2.3 Dwie cechy:  Petal Length, Petal Width</b>\n",
    "\n",
    "Ponownie znajdź sposób, aby za pomocą funkcji liniowej oddzielić klasę Setosa od dwóch pozostałych. Użyj funkcji ```plot``` do wyrysowania granicy na wykresie. Używamy tylko dwóch cech: Petal Length i Petal Width.\n",
    "\n",
    "<br>\n",
    "<b>ZAD 2.4 Reguła decyzyjna</b>\n",
    "\n",
    "Jak na tej podstawie skonstruujesz regułę decyzyjną o przynależności, bądź nie, do klasy Setosa nowo zmierzonego kwiata irysa?\n",
    "\n",
    "Czy irys o cechach:\n",
    "* Sepal Length=5\n",
    "* Sepal Width=4 \n",
    "* Petal Length=2 \n",
    "* Petal Width=0.5\n",
    "\n",
    "zostanie zaliczony na tej podstawie do klasy Setosa?\n",
    "\n",
    "</div>"
   ]
  },
  {
   "cell_type": "code",
   "execution_count": null,
   "id": "325737ef-071c-416d-8996-3accb92a379b",
   "metadata": {},
   "outputs": [],
   "source": []
  },
  {
   "cell_type": "markdown",
   "id": "1679f628-b61d-4cd5-b86c-ab7a4b9a2fb4",
   "metadata": {},
   "source": [
    "***"
   ]
  },
  {
   "cell_type": "markdown",
   "id": "aecffd71-c6da-4e63-8e03-1ba6fff5c07d",
   "metadata": {},
   "source": [
    "\n",
    "<div class=\"alert-success\">\n",
    "\n",
    "    \n",
    "<br>  \n",
    "    <font size = \"+1\"><b><font color='purple'>[PROBLEM 3D]</font><br>ZAD 3. Trzy cechy</b></font>\n",
    "<br>\n",
    " \n",
    "\n",
    "Jak rozdzielić klasy: \n",
    "* Setosa, \n",
    "* Versicolour\n",
    "* Virginica\n",
    "\n",
    "uwzględniając 3 cechy tym razem?\n",
    "\n",
    "Czy zawsze da się rozdzielić klasy bezbłędnie?\n",
    "\n",
    "</div>"
   ]
  },
  {
   "cell_type": "code",
   "execution_count": null,
   "id": "b836d343-6af2-4e80-b37a-1e76dd7cf476",
   "metadata": {},
   "outputs": [],
   "source": [
    "import plotly.express as px\n",
    " \n",
    "# Data to be plotted\n",
    "df = px.data.iris()\n",
    " \n",
    "# Plotting the figure\n",
    "fig = px.scatter_3d(df, x = 'sepal_width',\n",
    "                    y = 'sepal_length',\n",
    "                    z = 'petal_width',\n",
    "                    color = 'species')\n",
    " \n",
    "fig.show()"
   ]
  },
  {
   "cell_type": "markdown",
   "id": "57d3e373-5e1e-41de-b1aa-ea563df14c65",
   "metadata": {},
   "source": [
    "***"
   ]
  },
  {
   "cell_type": "markdown",
   "id": "8e8bff16-2a54-4c1c-ba94-1cf756810916",
   "metadata": {},
   "source": [
    "<font color='pink'> _dr inż. Urszula Libal - Politechnika Wrocławska (2024)_ </font>"
   ]
  }
 ],
 "metadata": {
  "kernelspec": {
   "display_name": "Python 3 (ipykernel)",
   "language": "python",
   "name": "python3"
  },
  "language_info": {
   "codemirror_mode": {
    "name": "ipython",
    "version": 3
   },
   "file_extension": ".py",
   "mimetype": "text/x-python",
   "name": "python",
   "nbconvert_exporter": "python",
   "pygments_lexer": "ipython3",
   "version": "3.9.13"
  }
 },
 "nbformat": 4,
 "nbformat_minor": 5
}
